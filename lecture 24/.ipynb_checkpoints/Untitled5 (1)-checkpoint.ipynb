{
 "cells": [
  {
   "cell_type": "code",
   "execution_count": null,
   "metadata": {},
   "outputs": [],
   "source": []
  },
  {
   "cell_type": "code",
   "execution_count": 1,
   "metadata": {},
   "outputs": [
    {
     "ename": "LoadError",
     "evalue": "UndefVarError: normalize not defined",
     "output_type": "error",
     "traceback": [
      "UndefVarError: normalize not defined",
      "",
      "Stacktrace:",
      " [1] top-level scope",
      "   @ In[1]:3",
      " [2] eval",
      "   @ ./boot.jl:373 [inlined]",
      " [3] include_string(mapexpr::typeof(REPL.softscope), mod::Module, code::String, filename::String)",
      "   @ Base ./loading.jl:1196"
     ]
    }
   ],
   "source": [
    "# Create a vector of Probabilities and do the Metropolis thing\n",
    "N = 5\n",
    "π = normalize(rand(N),1)\n",
    "P = min.(1,π./π');"
   ]
  },
  {
   "cell_type": "markdown",
   "metadata": {},
   "source": []
  },
  {
   "cell_type": "code",
   "execution_count": 2,
   "metadata": {},
   "outputs": [
    {
     "data": {
      "text/plain": [
       "true"
      ]
     },
     "execution_count": 2,
     "metadata": {},
     "output_type": "execute_result"
    }
   ],
   "source": [
    "# Note that by construction\n",
    "P'./P ≈ π'./π"
   ]
  },
  {
   "cell_type": "code",
   "execution_count": 3,
   "metadata": {},
   "outputs": [
    {
     "data": {
      "text/plain": [
       "true"
      ]
     },
     "execution_count": 3,
     "metadata": {},
     "output_type": "execute_result"
    }
   ],
   "source": [
    "# The same test in linear algebra notation\n",
    "P ≈ Diagonal(π)*P'/Diagonal(π)"
   ]
  },
  {
   "cell_type": "code",
   "execution_count": 4,
   "metadata": {},
   "outputs": [
    {
     "data": {
      "text/plain": [
       "true"
      ]
     },
     "execution_count": 4,
     "metadata": {},
     "output_type": "execute_result"
    }
   ],
   "source": [
    "# The following steps preserve P'./P ≈ π'./π \n",
    "# but add a new property:  sum(P,1) ≈ ones(1,N)\n",
    "P -=I\n",
    "P /= N\n",
    "P += Diagonal(1.-sum(P,1)[:])\n",
    "P'./P ≈ π'./π  && \n",
    "  sum(P,1) ≈ ones(1,N) "
   ]
  },
  {
   "cell_type": "code",
   "execution_count": 5,
   "metadata": {},
   "outputs": [
    {
     "data": {
      "text/plain": [
       "true"
      ]
     },
     "execution_count": 5,
     "metadata": {},
     "output_type": "execute_result"
    }
   ],
   "source": [
    "P*π ≈ π \n",
    "# why? multiplying P*π \n",
    "# from right to left in\n",
    "# (Diagonal(π)*P'/Diagonal(π)) * π \n",
    "# gives π --> ones --> ones --> π"
   ]
  },
  {
   "cell_type": "code",
   "execution_count": null,
   "metadata": {
    "collapsed": true
   },
   "outputs": [],
   "source": []
  }
 ],
 "metadata": {
  "kernelspec": {
   "display_name": "Julia 1.7 1.7.1",
   "language": "julia",
   "name": "julia-1.7-1.7"
  },
  "language_info": {
   "file_extension": ".jl",
   "mimetype": "application/julia",
   "name": "julia",
   "version": "1.7.1"
  }
 },
 "nbformat": 4,
 "nbformat_minor": 2
}
