{
 "cells": [
  {
   "cell_type": "code",
   "execution_count": 24,
   "metadata": {},
   "outputs": [],
   "source": [
    "using LinearAlgebra"
   ]
  },
  {
   "cell_type": "code",
   "execution_count": 128,
   "metadata": {},
   "outputs": [
    {
     "data": {
      "text/plain": [
       "7×7 Matrix{Float64}:\n",
       " 1.0       0.939131  1.0       1.0  1.0       1.0       1.0\n",
       " 1.0       1.0       1.0       1.0  1.0       1.0       1.0\n",
       " 0.91576   0.860018  1.0       1.0  0.996336  1.0       1.0\n",
       " 0.158675  0.149017  0.173271  1.0  0.172637  0.831643  0.205929\n",
       " 0.919128  0.863181  1.0       1.0  1.0       1.0       1.0\n",
       " 0.190797  0.179183  0.208348  1.0  0.207585  1.0       0.247617\n",
       " 0.770531  0.72363   0.841412  1.0  0.838329  1.0       1.0"
      ]
     },
     "execution_count": 128,
     "metadata": {},
     "output_type": "execute_result"
    }
   ],
   "source": [
    "# Create a vector of Probabilities and do the Metropolis thing\n",
    "N = 7\n",
    "π = normalize(rand(N),1)\n",
    "P = min.(1,π./π')"
   ]
  },
  {
   "cell_type": "code",
   "execution_count": 129,
   "metadata": {},
   "outputs": [
    {
     "data": {
      "text/plain": [
       "true"
      ]
     },
     "execution_count": 129,
     "metadata": {},
     "output_type": "execute_result"
    }
   ],
   "source": [
    "# Note that by construction\n",
    "P'./P ≈ π'./π"
   ]
  },
  {
   "cell_type": "code",
   "execution_count": 130,
   "metadata": {},
   "outputs": [
    {
     "data": {
      "text/plain": [
       "true"
      ]
     },
     "execution_count": 130,
     "metadata": {},
     "output_type": "execute_result"
    }
   ],
   "source": [
    "# The same test in linear algebra notation\n",
    "P ≈ Diagonal(π)*P'/Diagonal(π)"
   ]
  },
  {
   "cell_type": "code",
   "execution_count": 131,
   "metadata": {},
   "outputs": [
    {
     "data": {
      "text/plain": [
       "true"
      ]
     },
     "execution_count": 131,
     "metadata": {},
     "output_type": "execute_result"
    }
   ],
   "source": [
    "# The following steps preserve P'./P ≈ π'./π \n",
    "# but add a new property:  sum(P,1) ≈ ones(1,N)\n",
    "M = P -I\n",
    "M /= (N-1)\n",
    "\n",
    "M += Diagonal(1 .- sum(M,dims=1)[:])\n",
    "M'./M ≈ π'./π   &&  sum(M,dims=1) ≈ ones(1,N) "
   ]
  },
  {
   "cell_type": "code",
   "execution_count": 132,
   "metadata": {},
   "outputs": [
    {
     "data": {
      "text/plain": [
       "true"
      ]
     },
     "execution_count": 132,
     "metadata": {},
     "output_type": "execute_result"
    }
   ],
   "source": [
    "M*π ≈ π \n",
    "# why? multiplying P*π \n",
    "# from right to left in\n",
    "# (Diagonal(π)*P'/Diagonal(π)) * π \n",
    "# gives π --> ones --> ones --> π"
   ]
  },
  {
   "cell_type": "code",
   "execution_count": 133,
   "metadata": {},
   "outputs": [
    {
     "data": {
      "text/plain": [
       "true"
      ]
     },
     "execution_count": 133,
     "metadata": {},
     "output_type": "execute_result"
    }
   ],
   "source": [
    "# Nothing special about the uniform distribution\n",
    "M = P-I\n",
    "M .*= Symmetric( rand(N,N))\n",
    "M += Diagonal(1 .- sum(M,dims=1)[:])\n",
    "M'./M ≈ π'./π   &&  sum(M,dims=1) ≈ ones(1,N) "
   ]
  },
  {
   "cell_type": "code",
   "execution_count": null,
   "metadata": {},
   "outputs": [],
   "source": []
  },
  {
   "cell_type": "code",
   "execution_count": null,
   "metadata": {},
   "outputs": [],
   "source": []
  }
 ],
 "metadata": {
  "kernelspec": {
   "display_name": "Julia 1.7 1.7.1",
   "language": "julia",
   "name": "julia-1.7-1.7"
  },
  "language_info": {
   "file_extension": ".jl",
   "mimetype": "application/julia",
   "name": "julia",
   "version": "1.7.1"
  }
 },
 "nbformat": 4,
 "nbformat_minor": 2
}
