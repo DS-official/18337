{
 "cells": [
  {
   "cell_type": "code",
   "execution_count": 24,
   "metadata": {},
   "outputs": [],
   "source": [
    "using LinearAlgebra"
   ]
  },
  {
   "cell_type": "code",
   "execution_count": 61,
   "metadata": {},
   "outputs": [
    {
     "data": {
      "text/plain": [
       "5×5 Matrix{Float64}:\n",
       " 1.0       1.0  1.0       1.0       1.0\n",
       " 0.156914  1.0  0.160773  0.213174  0.395606\n",
       " 0.976     1.0  1.0       1.0       1.0\n",
       " 0.736083  1.0  0.754183  1.0       1.0\n",
       " 0.396643  1.0  0.406396  0.538856  1.0"
      ]
     },
     "execution_count": 61,
     "metadata": {},
     "output_type": "execute_result"
    }
   ],
   "source": [
    "# Create a vector of Probabilities and do the Metropolis thing\n",
    "N = 5\n",
    "π = normalize(rand(N),1)\n",
    "P = min.(1,π./π')"
   ]
  },
  {
   "cell_type": "code",
   "execution_count": 62,
   "metadata": {},
   "outputs": [
    {
     "data": {
      "text/plain": [
       "true"
      ]
     },
     "execution_count": 62,
     "metadata": {},
     "output_type": "execute_result"
    }
   ],
   "source": [
    "# Note that by construction\n",
    "P'./P ≈ π'./π"
   ]
  },
  {
   "cell_type": "code",
   "execution_count": 63,
   "metadata": {},
   "outputs": [
    {
     "data": {
      "text/plain": [
       "true"
      ]
     },
     "execution_count": 63,
     "metadata": {},
     "output_type": "execute_result"
    }
   ],
   "source": [
    "# The same test in linear algebra notation\n",
    "P ≈ Diagonal(π)*P'/Diagonal(π)"
   ]
  },
  {
   "cell_type": "code",
   "execution_count": 64,
   "metadata": {},
   "outputs": [
    {
     "data": {
      "text/plain": [
       "true"
      ]
     },
     "execution_count": 64,
     "metadata": {},
     "output_type": "execute_result"
    }
   ],
   "source": [
    "# The following steps preserve P'./P ≈ π'./π \n",
    "# but add a new property:  sum(P,1) ≈ ones(1,N)\n",
    "P -=I\n",
    "P /= N\n",
    "\n",
    "P += Diagonal(1 .- sum(P,dims=1)[:])\n",
    "P'./P ≈ π'./π  &&  sum(P,dims=1) ≈ ones(1,N) "
   ]
  },
  {
   "cell_type": "code",
   "execution_count": 65,
   "metadata": {},
   "outputs": [
    {
     "data": {
      "text/plain": [
       "5×5 Matrix{Float64}:\n",
       " 0.546872   0.2  0.2        0.2        0.2\n",
       " 0.0313828  0.2  0.0321545  0.0426349  0.0791211\n",
       " 0.1952     0.2  0.53573    0.2        0.2\n",
       " 0.147217   0.2  0.150837   0.449594   0.2\n",
       " 0.0793285  0.2  0.0812792  0.107771   0.320879"
      ]
     },
     "execution_count": 65,
     "metadata": {},
     "output_type": "execute_result"
    }
   ],
   "source": [
    "P"
   ]
  },
  {
   "cell_type": "code",
   "execution_count": 57,
   "metadata": {},
   "outputs": [
    {
     "data": {
      "text/plain": [
       "true"
      ]
     },
     "execution_count": 57,
     "metadata": {},
     "output_type": "execute_result"
    }
   ],
   "source": [
    "P*π ≈ π \n",
    "# why? multiplying P*π \n",
    "# from right to left in\n",
    "# (Diagonal(π)*P'/Diagonal(π)) * π \n",
    "# gives π --> ones --> ones --> π"
   ]
  },
  {
   "cell_type": "code",
   "execution_count": 21,
   "metadata": {},
   "outputs": [
    {
     "data": {
      "text/plain": [
       "true"
      ]
     },
     "execution_count": 21,
     "metadata": {},
     "output_type": "execute_result"
    }
   ],
   "source": [
    "P'./P ≈ π'./π "
   ]
  },
  {
   "cell_type": "code",
   "execution_count": null,
   "metadata": {},
   "outputs": [],
   "source": []
  }
 ],
 "metadata": {
  "kernelspec": {
   "display_name": "Julia 1.7 1.7.1",
   "language": "julia",
   "name": "julia-1.7-1.7"
  },
  "language_info": {
   "file_extension": ".jl",
   "mimetype": "application/julia",
   "name": "julia",
   "version": "1.7.1"
  }
 },
 "nbformat": 4,
 "nbformat_minor": 2
}
